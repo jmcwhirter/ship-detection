{
 "cells": [
  {
   "cell_type": "markdown",
   "metadata": {},
   "source": [
    "The purpose of this notebook is to create annotation files for each ",
    "image in your training set. It creates a JSON file for each image and ",
    "uploads it to your S3 bucket for future processing."
   ]
  },
  {
   "cell_type": "code",
   "execution_count": null,
   "metadata": {},
   "outputs": [],
   "source": [
    "import sagemaker\n",
    "from sagemaker import get_execution_role\n",
    "import os\n",
    "import urllib.request\n",
    "import pandas as pd \n",
    "from PIL import Image\n",
    "\n",
    "role = get_execution_role()\n",
    "print('Role: ' + role)\n",
    "sess = sagemaker.Session()\n",
    "\n",
    "from sagemaker.amazon.amazon_estimator import get_image_uri\n",
    "\n",
    "training_image = get_image_uri(sess.boto_region_name, 'object-detection', repo_version=\"latest\")\n",
    "print ('Training image: ' + training_image)"
   ]
  },
  {
    "cell_type": "markdown",
    "metadata": {
      "_uuid": "6ec23497a3ac0b5503e9148d53d588c342146535"
    },
    "source": [
      "Create some functions to help us interact with S3."
    ]
  },
  {
    "cell_type": "code",
    "execution_count": null,
    "metadata": {},
    "outputs": [],
    "source": [
      "import matplotlib.pyplot as plt\n",
      "import matplotlib.image as mpimg\n",
      "import numpy as np\n",
      "import boto3\n",
      "import io\n",
      "\n",
      "def get_S3_object(object_name):\n",
      "    s3 = boto3.resource('s3')\n",
      "    bucket = s3.Bucket('mcwhirter-airbus-ship-detection-data')\n",
      "    object = bucket.Object(object_name)\n",
      "    return object.get()['Body']\n",
      "\n",
      "def get_S3_image(image_name):\n",
      "    return get_S3_object('training/' + image_name)\n",
      "\n",
      "def put_S3_file(file_name, file):\n",
      "    s3 = boto3.resource('s3')\n",
      "    object = s3.Object('mcwhirter-airbus-ship-detection-data', 'trainimages_annotation/' + file_name)\n",
      "    object.put(Body=file)\n",
      "    return object"
    ]
  },
  {
    "cell_type": "code",
    "execution_count": null,
    "metadata": {},
    "outputs": [],
    "source": [
      "mapping_csv = pd.read_csv(get_S3_object('bbox_dictionary.csv'))\n",
      "mapping_csv.columns = ['file','bbox']\n",
      "\n",
      "bbox_dict = dict()\n",
      "for index,row in mapping_csv.iterrows():\n",
      "    bbox_dict[row['file']] = row['bbox']\n",
      "\n",
      "print(('First image: ' + list(bbox_dict.keys())[0]))"
    ]
  },
  {
   "cell_type": "markdown",
   "metadata": {
    "_uuid": "6ec23497a3ac0b5503e9148d53d588c342146535"
   },
   "source": [
    "Create a bounding box dictionary from CSV output. ",
    "It needs some cleaning so we do that below."
   ]
 },
  {
   "cell_type": "code",
   "execution_count": null,
   "metadata": {},
   "outputs": [],
   "source": [
    "import json\n",
    "\n",
    "bbox_dict_clean = dict()\n",
    "for key in bbox_dict:\n",
    "    tmp = bbox_dict[key] \n",
    "    tmp = tmp.strip('[')\n",
    "    tmp = tmp.strip(']')\n",
    "    tmp = tmp.split('), (')\n",
    "    tmp = [ele.strip('(') for ele in tmp]\n",
    "    tmp = [ele.strip(')') for ele in tmp]\n",
    "    tmp = [ele.split(', ') for ele in tmp]\n",
    "    tmp = [[int(temp) for temp in ele] for ele in tmp]\n",
    "    tmpNew = [[ele[0],ele[1],ele[2]-ele[0],ele[3]-ele[1]] for ele in tmp]\n",
    "    bbox_dict_clean[key] = tmpNew\n",
    "\n",
    "## Debug ##\n",
    "# for file in list(bbox_dict_clean.keys())[:5]:\n",
    "for file in list(bbox_dict_clean.keys())[:5]:\n",
    "    bbox = list()\n",
    "    try:\n",
    "        bbox = bbox_dict_clean[file]\n",
    "    except KeyError:\n",
    "        continue\n",
    "    \n",
    "    tmpDict = dict()\n",
    "    tmpDict[\"file\"] = file\n",
    "    tmpDict[\"image_size\"] = list()\n",
    "    tmpDict[\"image_size\"] = [{\"width\":768, \"height\":768,\"depth\":3}]\n",
    "    \n",
    "    annotations = []\n",
    "    for ele in bbox:\n",
    "        annotations.append({\"class_id\":1,\"top\":ele[0],\"left\":ele[1],\"width\":ele[3],\"height\":ele[2]})\n",
    "\n",
    "    tmpDict['annotations'] = annotations\n",
    "    tmpDict['categories'] = [{'class_id':1,\"name\":\"ship\"}]\n",
    "    jsonFile = file.split('.jpg')[0] + '.json'\n",
    "    ## Debug statement ##\n",
    "    # print(jsonFile)\n",
    "    put_S3_file(jsonFile, json.dumps(tmpDict))"
   ]
  }
 ],
 "metadata": {
  "kernelspec": {
   "display_name": "conda_mxnet_p36",
   "language": "python",
   "name": "conda_mxnet_p36"
  },
  "language_info": {
   "codemirror_mode": {
    "name": "ipython",
    "version": 3
   },
   "file_extension": ".py",
   "mimetype": "text/x-python",
   "name": "python",
   "nbconvert_exporter": "python",
   "pygments_lexer": "ipython3",
   "version": "3.6.5"
  }
 },
 "nbformat": 4,
 "nbformat_minor": 2
}
